{
  "cells": [
    {
      "cell_type": "markdown",
      "id": "bf3e5123",
      "metadata": {},
      "source": [
        "# 📘 Uber Fares Dataset Analysis – Power BI Project\n",
        "\n",
        "**Author**: David MILINDI Shema  \n",
        "**ID**: 25914  \n",
        "**Submission Date**: 27/07/2025  \n",
        "**Submitted to**: eric.maniraguha@auca.ac.rw  \n",
        "**Repository**: [INSERT GITHUB LINK]"
      ]
    },
    {
      "cell_type": "markdown",
      "id": "a71ed90a",
      "metadata": {},
      "source": [
        "## 🔍 Project Overview\n",
        "\n",
        "This project analyzes the **Uber Fares Dataset** to uncover meaningful insights on ride fares, trip distribution over time, and operational patterns using **Power BI**.\n",
        "\n",
        "**Deliverables:**\n",
        "- Cleaned dataset\n",
        "- Data analyzing graphs\n",
        "- Power BI user dashboard\n",
        "- Analytical report\n",
        "- GitHub ReadMe documentation"
      ]
    },
    {
      "cell_type": "markdown",
      "id": "37f31905",
      "metadata": {},
      "source": [
        "## 🗃️ Dataset Description\n",
        "\n",
        "- **Source**:  [Kaggle – Uber Fares Dataset  ](https://www.kaggle.com/datasets/yasserh/uber-fares-dataset)  \n",
        "- **Columns**: fare_amount, pickup_datetime, pickup_longitude, pickup_latitude, dropoff_longitude, dropoff_latitude, passenger_count  \n",
        "- **Rows**: ~20,000"
      ]
    },
    {
      "cell_type": "markdown",
      "id": "cc65036b",
      "metadata": {},
      "source": [
        "## ⚙️ Methodology\n",
        "### 1. Data Cleaning in Python"
      ]
    },
    {
      "cell_type": "code",
      "execution_count": null,
      "id": "aafebe87",
      "metadata": {},
      "outputs": [],
      "source": [
        "# Load dataset\n",
        "import pandas as pd\n",
        "\n",
        "\n",
        "df = pd.read_csv(r\"C:\\Users\\DAVID\\Downloads\\Documents\\Uber\\uber.csv\")\n",
        "\n",
        "df.head()\n",
        "\n",
        "print(\"Shape:\", df.shape)\n",
        "print(\"Columns:\", df.columns)\n",
        "\n",
        "# check columns and there counts\n",
        "\n",
        "print(df.dtypes)\n",
        "\n",
        "#check for null values\n",
        "\n",
        "print(df.isnull().sum())\n",
        "\n",
        "# Drop rows with null values(though we found none)\n",
        "\n",
        "df = df.dropna(subset=['fare_amount', 'pickup_datetime', 'pickup_longitude', 'pickup_latitude'])\n",
        "df.reset_index(drop=True, inplace=True)\n",
        "\n",
        "# Convert to datetime\n",
        "df['pickup_datetime'] = pd.to_datetime(df['pickup_datetime'])\n",
        "\n",
        "# Save cleaned dataset\n",
        "df.to_csv(\"uber_cleaned.csv\", index=False)"
      ]
    },
    {
      "cell_type": "markdown",
      "id": "13263898",
      "metadata": {},
      "source": [
        "## 📈 Exploratory Data Analysis (EDA)"
      ]
    },
    {
      "cell_type": "code",
      "execution_count": null,
      "id": "867cb959",
      "metadata": {},
      "outputs": [],
      "source": [
        "# Summary statistics\n",
        "df.describe()"
      ]
    },
    {
      "cell_type": "code",
      "execution_count": null,
      "id": "c5ed2661",
      "metadata": {},
      "outputs": [],
      "source": [
        "# Visual fare distribution\n",
        "import seaborn as sns\n",
        "import matplotlib.pyplot as plt\n",
        "\n",
        "sns.histplot(df['fare_amount'], bins=50)\n",
        "plt.title(\"Fare Amount Distribution\")\n",
        "plt.show()"
      ]
    },
    {
      "cell_type": "code",
      "execution_count": null,
      "id": "f23adb12",
      "metadata": {},
      "outputs": [],
      "source": [
        "# Visual fare vs distance\n",
        "\n",
        "df['distance'] = ((df['dropoff_longitude'] - df['pickup_longitude'])**2 + \n",
        "                  (df['dropoff_latitude'] - df['pickup_latitude'])**2)**0.5\n",
        "sns.scatterplot(x='distance', y='fare_amount', data=df)\n",
        "plt.title(\"Fare vs Distance\")\n",
        "plt.show()"
      ]
    },
    {
      "cell_type": "markdown",
      "id": "7d6ec8a7",
      "metadata": {},
      "source": [
        "## 🧠 Feature Engineering\n",
        "\n",
        "Features extracted from `pickup_datetime` include hour, weekday, month, and peak_hour."
      ]
    },
    {
      "cell_type": "code",
      "execution_count": null,
      "id": "2b29c087",
      "metadata": {},
      "outputs": [],
      "source": [
        "# create new columns for time rapses\n",
        "\n",
        "df['pickup_datetime'] = pd.to_datetime(df['pickup_datetime'])\n",
        "\n",
        "df['hour'] = df['pickup_datetime'].dt.hour\n",
        "df['weekday'] = df['pickup_datetime'].dt.day_name()\n",
        "df['month'] = df['pickup_datetime'].dt.month\n",
        "\n",
        "df['peak_hour'] = df['hour'].apply(lambda x: 'Peak' if 7 <= x <= 9 or 16 <= x <= 19 else 'Off-Peak')\n",
        "\n",
        "# Save the final cleaned dataset with new features\n",
        "\n",
        "df.to_csv(\"uber_fares_final.csv\", index=False)"
      ]
    },
    {
      "cell_type": "markdown",
      "id": "354ff250",
      "metadata": {},
      "source": [
        "## 📊 Power BI Dashboard\n",
        "\n",
        "The followimg Dashboard has these features:  \n",
        "- Line Chart: Rides per Month\n",
        "- Pie Chart: Fare by Weekday\n",
        "- KPI Cards (Avg Fare, Max Fare, Total Rides)\n",
        "- Map  \n",
        "\n",
        "![Power BI Dashboard Screenshot](./images/Screenshot 2025-07-27 212116.png\")\n"
      ]
    },
    {
      "cell_type": "markdown",
      "id": "4e60ca6d",
      "metadata": {},
      "source": [
        "## 💡 Key Insights\n",
        "\n",
        "1. Peak hours have the highest fare rates.\n",
        "2. Weekends show increased ride volume.\n",
        "3. Late-night rides cost more.\n",
        "4. Outliers were removed for better trend analysis."
      ]
    },
    {
      "cell_type": "markdown",
      "id": "0825f527",
      "metadata": {},
      "source": [
        "## 📷 Screenshots\n",
        "\n",
        "\n",
        "- Data Cleaning\n",
        "- Feature Engineering\n",
        "- Dashboard\n",
        "- KPI Cards  \n",
        "\n",
        "![Screenshot](./images/Screenshot 2025-07-27 212116.png)  \n",
        "![Screenshot](./images/Screenshot 2025-07-27 121946.png)  \n",
        "![Screenshot](./images/Screenshot 2025-07-27 121128.png)  \n",
        "![Screenshot](./images/Screenshot 2025-07-27 120538.png)  \n",
        "![Screenshot](./images/Screenshot 2025-07-27 103137.png)  \n",
        "![Screenshot](./images/Screenshot 2025-07-27 103117.png)  \n",
        "![Screenshot](./images/Screenshot 2025-07-25 142347.png)  \n",
        "![Screenshot](./images/Screenshot 2025-07-25 142332.png)  \n",
        "![Screenshot](./images/Screenshot 2025-07-25 142303.png)  \n",
        "![Screenshot](./images/Screenshot 2025-07-25 142050.png)  \n",
        "![Screenshot](./images/Screenshot 2025-07-25 140858.png)  \n",
        "![Screenshot](./images/Screenshot 2025-07-25 140844.png)  \n",
        "![Screenshot](./images/Screenshot 2025-07-25 140831.png)  \n",
        "![Screenshot](./images/Screenshot 2025-07-25 140831.png)  \n",
        "![Screenshot](./images/Screenshot 2025-07-25 140737.png)  "
      ]
    }
  ],
  "metadata": {
    "kernelspec": {
      "display_name": "Python 3",
      "language": "python",
      "name": "python3"
    },
    "language_info": {
      "name": "python",
      "version": "3.8.5"
    }
  },
  "nbformat": 4,
  "nbformat_minor": 5
}
